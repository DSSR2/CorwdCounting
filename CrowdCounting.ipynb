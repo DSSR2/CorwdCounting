{
  "nbformat": 4,
  "nbformat_minor": 0,
  "metadata": {
    "colab": {
      "name": "CrowdCounting",
      "provenance": [],
      "collapsed_sections": []
    },
    "kernelspec": {
      "name": "python3",
      "display_name": "Python 3"
    },
    "language_info": {
      "name": "python"
    },
    "accelerator": "GPU"
  },
  "cells": [
    {
      "cell_type": "markdown",
      "source": [
        "# Crowd Counting Notebook\n",
        "## Directions: \n",
        "1. Click on `Runtime` -> `Run All`. \n",
        "2. Wait for Cell #1 to complete processing. The last line of the output should be `/content/CrowdCounting`\n",
        "3. Scroll down to Cell #2 and click on the `Choose Files` button.\n",
        "4. Choose the file you want to upload and click open/upload.\n",
        "5. Wait for the code to run and you should have the count printed out at the bottom.\n",
        "6. If you want to test a different image, you just have to run cell #2. To do so, click the play button (triangle in circle) on the left of cell #2. You might have to scroll down to the cell to make the play button appear. Then follow steps 4-5. "
      ],
      "metadata": {
        "id": "sQBG-m-D18EK"
      }
    },
    {
      "cell_type": "code",
      "source": [
        "### CELL #1\n",
        "\n",
        "!gdown \"1v9u-1ll44e1O9R2dKCOPDykM6nPRVvpB\"\n",
        "!gdown \"1v9ym764SlUe5Cn8j2scR726eCOvQ1mP0\"\n",
        "!git clone https://github.com/DSSR2/CrowdCounting.git\n",
        "\n",
        "!mv best_M-SegNet.pth CrowdCounting/weights\n",
        "!mv best_M-SFANet.pth CrowdCounting/weights\n",
        "\n",
        "%cd CrowdCounting\n",
        "!mkdir images\n",
        "\n",
        "import sys\n",
        "sys.path.append(\"./CrowdCounting/\")\n",
        "sys.path.append(\"./CrowdCounting/datasets/\")\n",
        "sys.path.append(\"./CrowdCounting/models/\")\n",
        "\n",
        "import cv2\n",
        "from PIL import Image\n",
        "import numpy as np\n",
        "import warnings\n",
        "warnings.filterwarnings(\"ignore\")\n",
        "\n",
        "import torch\n",
        "from torchvision import transforms\n",
        "from tqdm import tqdm\n",
        "\n",
        "from datasets.crowd import Crowd\n",
        "from models import M_SFANet_UCF_QNRF\n",
        "from models import M_SegNet_UCF_QNRF\n",
        "from viz import vis_densitymap"
      ],
      "metadata": {
        "id": "n5qdqDbNZZNy"
      },
      "execution_count": null,
      "outputs": []
    },
    {
      "cell_type": "code",
      "execution_count": null,
      "metadata": {
        "id": "RBcD9gtf8iPH"
      },
      "outputs": [],
      "source": [
        "### CELL #2\n",
        "\n",
        "from google.colab import files\n",
        "uploaded = files.upload()\n",
        "file_names = list(uploaded.keys())\n",
        "\n",
        "trans = transforms.Compose([transforms.ToTensor(), \n",
        "                            transforms.Normalize([0.485, 0.456, 0.406], [0.229, 0.224, 0.225])\n",
        "                           ])\n",
        "\n",
        "img = Image.open(file_names[0]).convert('RGB')\n",
        "height, width = img.size[1], img.size[0]\n",
        "height = round(height / 16) * 16\n",
        "width = round(width / 16) * 16\n",
        "img = cv2.resize(np.array(img), (width,height), cv2.INTER_CUBIC)\n",
        "img = trans(Image.fromarray(img))[None, :]\n",
        "\n",
        "m1 = M_SFANet_UCF_QNRF.Model()\n",
        "m2 = M_SegNet_UCF_QNRF.Model()\n",
        "\n",
        "models = [m1, m2]\n",
        "\n",
        "for i in models:\n",
        "    i.cuda()\n",
        "\n",
        "m1.load_state_dict(torch.load(\"./weights/best_M-SFANet.pth\"))\n",
        "m2.load_state_dict(torch.load(\"./weights/best_M-SegNet.pth\"))\n",
        "\n",
        "\n",
        "den_maps = []\n",
        "sum_vals = 0\n",
        "for idx, i in enumerate(models):\n",
        "    i.eval()\n",
        "    with torch.no_grad():\n",
        "        outputs = i(img.cuda())\n",
        "        sum_vals += torch.sum(outputs).item() \n",
        "        den_maps.append(outputs)\n",
        "    \n",
        "print(\"\\n\\nCrowd Count: \", np.round(sum_vals/2))\n",
        "\n",
        "\n",
        "vis_densitymap(img.cpu(), den_maps[0].cpu().detach().numpy(), int(torch.sum(den_maps[0]).item()), file_names[0])"
      ]
    }
  ]
}